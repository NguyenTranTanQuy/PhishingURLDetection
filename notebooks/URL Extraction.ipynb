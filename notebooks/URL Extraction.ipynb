{
  "cells": [
    {
      "cell_type": "code",
      "source": [
        "from google.colab import drive\n",
        "drive.mount('/gdrive')\n",
        "%cd /gdrive"
      ],
      "metadata": {
        "id": "owT9s_tDEPZj"
      },
      "execution_count": null,
      "outputs": []
    },
    {
      "cell_type": "code",
      "source": [
        "!pip install Levenshtein\n",
        "!pip install tldextract"
      ],
      "metadata": {
        "id": "fwbsiyrmDW2G"
      },
      "execution_count": null,
      "outputs": []
    },
    {
      "cell_type": "code",
      "source": [
        "import re\n",
        "import socket\n",
        "import Levenshtein\n",
        "import math\n",
        "from urllib.parse import urlparse\n",
        "from os.path import splitext\n",
        "from tldextract import tldextract"
      ],
      "metadata": {
        "id": "4-wXGGt7DRTw"
      },
      "execution_count": 8,
      "outputs": []
    },
    {
      "cell_type": "code",
      "source": [
        "HINTS = ['wp', 'login', 'includes', 'admin', 'content', 'site', 'images', 'js', 'alibaba', 'css', 'myaccount', 'dropbox', 'themes', 'plugins', 'signin', 'view', 'invoice', 'new', 'message', 'required', 'verification']\n",
        "\n",
        "allBrand = []\n",
        "with open(\"/gdrive/MyDrive/Colab Notebooks/URLSETs /allbrands.txt\", \"r\") as file:\n",
        "    for line in file:\n",
        "        allBrand.append(line.strip())"
      ],
      "metadata": {
        "id": "hebWqBKKDeLV"
      },
      "execution_count": 11,
      "outputs": []
    },
    {
      "cell_type": "code",
      "source": [
        "def url_length(url):\n",
        "    return len(url)\n",
        "\n",
        "def hostname_length(hostname):\n",
        "    return len(hostname)\n",
        "\n",
        "def count_tilde(url):\n",
        "    return url.count('~')\n",
        "\n",
        "def count_exclamation(url):\n",
        "    return url.count('!')\n",
        "\n",
        "def count_at(url):\n",
        "    return url.count('@')\n",
        "\n",
        "def count_hash(url):\n",
        "    return url.count('#')\n",
        "\n",
        "def count_dollar(url):\n",
        "    return url.count('$')\n",
        "\n",
        "def count_percentage(url):\n",
        "    return url.count('%')\n",
        "\n",
        "def count_caret(url):\n",
        "    return url.count('^')\n",
        "\n",
        "def count_and(url):\n",
        "    return url.count('&')\n",
        "\n",
        "def count_star(url):\n",
        "    return url.count('*')\n",
        "\n",
        "def count_left_parenthesis(url):\n",
        "    return url.count('(')\n",
        "\n",
        "def count_right_parenthesis(url):\n",
        "    return url.count(')')\n",
        "\n",
        "def count_hyphens(url):\n",
        "    return url.count('-')\n",
        "\n",
        "def count_underscore(url):\n",
        "    return url.count('_')\n",
        "\n",
        "def count_plus(url):\n",
        "    return url.count('+')\n",
        "\n",
        "def count_equal(url):\n",
        "    return url.count('=')\n",
        "\n",
        "def count_left_curly_brace(url):\n",
        "    return url.count('{')\n",
        "\n",
        "def count_right_curly_brace(url):\n",
        "    return url.count('}')\n",
        "\n",
        "def count_left_square_bracket(url):\n",
        "    return url.count('[')\n",
        "\n",
        "def count_right_square_bracket(url):\n",
        "    return url.count(']')\n",
        "\n",
        "def count_or(url):\n",
        "    return url.count('|')\n",
        "\n",
        "def count_backslash(url):\n",
        "    return url.count('\\\\')\n",
        "\n",
        "def count_colon(url):\n",
        "    return url.count(':')\n",
        "\n",
        "def count_semicolon(url):\n",
        "    return url.count(';')\n",
        "\n",
        "def count_comma(url):\n",
        "    return url.count(',')\n",
        "\n",
        "def count_dot(url):\n",
        "    return url.count('.')\n",
        "\n",
        "def count_less_than(url)\n",
        "    return url.count('<')\n",
        "\n",
        "def count_greater_than(url):\n",
        "    return url.count('>')\n",
        "\n",
        "def count_question(url):\n",
        "    return url.count('?')\n",
        "\n",
        "def count_slash(url):\n",
        "    return url.count('/')\n",
        "\n",
        "def count_double_slash(url):\n",
        "    if \"//\" in url:\n",
        "        result = [x.start(0) for x in re.finditer('//', url)]\n",
        "        return 1 if result[len(result) - 1] > 6 else 0\n",
        "    return 0\n",
        "\n",
        "def count_space(url):\n",
        "    return url.count(' ') + url.count('%20')\n",
        "\n",
        "def count_digits(url):\n",
        "    return len(re.sub(\"[^0-9]\", \"\", url))\n",
        "\n",
        "def count_letters(url):\n",
        "    return len(re.sub(\"[^a-zA-Z]\", \"\", url))\n",
        "\n",
        "def digits_ratio(url):\n",
        "    return count_digits(url) / len(url)\n",
        "\n",
        "def letters_ratio(url):\n",
        "    return count_letters(url) / len(url)\n",
        "\n",
        "def"
      ],
      "metadata": {
        "id": "5LthOYKKEzLM"
      },
      "execution_count": 13,
      "outputs": []
    }
  ],
  "metadata": {
    "colab": {
      "provenance": []
    },
    "language_info": {
      "name": "python"
    },
    "kernelspec": {
      "name": "python3",
      "display_name": "Python 3"
    }
  },
  "nbformat": 4,
  "nbformat_minor": 0
}