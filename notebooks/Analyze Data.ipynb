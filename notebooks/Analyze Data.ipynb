{
 "cells": [
  {
   "cell_type": "code",
   "execution_count": null,
   "metadata": {},
   "outputs": [],
   "source": [
    "from google.colab import drive\n",
    "drive.mount('/gdrive')\n",
    "%cd /gdrive"
   ]
  },
  {
   "cell_type": "code",
   "execution_count": null,
   "metadata": {},
   "outputs": [],
   "source": [
    "import pandas as pd\n",
    "from matplotlib import pyplot as plt"
   ]
  },
  {
   "cell_type": "code",
   "execution_count": null,
   "metadata": {},
   "outputs": [],
   "source": [
    "# GLOBAL SETTINGS:\n",
    "DATASET_URL = r\"/gdrive/MyDrive/Colab Notebooks/1M-PD/train.csv\""
   ]
  },
  {
   "cell_type": "code",
   "execution_count": null,
   "metadata": {},
   "outputs": [],
   "source": [
    "def evaluateFeaturesByChart(featureName):\n",
    "  X_y_phish = {}\n",
    "  X_y_legi = {}\n",
    "  for i in range(len(data)):\n",
    "    if data.loc[i, 'label'] == 0:\n",
    "      X_y_legi[str(data.loc[i, featureName])] = X_y_legi.get(str(data.loc[i, featureName]), 0) + 1\n",
    "    else:\n",
    "      X_y_phish[str(data.loc[i, featureName])] = X_y_phish.get(str(data.loc[i, featureName]), 0) + 1\n",
    "  max_valueX = max(data[featureName])\n",
    "\n",
    "  X_y_phish = dict(sorted(X_y_phish.items(), key= lambda x: float(x[0])))\n",
    "  X_phish = [float(x) for x in X_y_phish.keys()]\n",
    "  y_phish = X_y_phish.values()\n",
    "\n",
    "  X_y_legi = dict(sorted(X_y_legi.items(), key= lambda x: float(x[0])))\n",
    "  X_legi = [float(x) for x in X_y_legi.keys()]\n",
    "  y_legi = X_y_legi.values()\n",
    "\n",
    "  plt.figure(figsize=(20, 6))\n",
    "  plt.plot(X_phish, y_phish, color='red', label='Phishing')\n",
    "  plt.plot(X_legi, y_legi, color='green', label='Legitimate')\n",
    "\n",
    "  plt.xlim(0, max_valueX + 1)\n",
    "  plt.xticks(ticks=range(0, round(max_valueX) + 2, round(max_valueX) // 6 + 1))\n",
    "\n",
    "  plt.xlabel(featureName)\n",
    "  plt.ylabel('Number of URLs')\n",
    "\n",
    "  plt.legend()\n",
    "  plt.show()"
   ]
  },
  {
   "cell_type": "code",
   "execution_count": null,
   "metadata": {},
   "outputs": [],
   "source": [
    "data = pd.read_csv(DATASET_URL, encoding='utf-8', index_col=False)\n",
    "data = data.drop(columns=[\"url\", \"scheme\", \"domain\", \"subdomain\", \"second_domain\", \"tld\", \"url_path\", \"words_raw\"])"
   ]
  },
  {
   "cell_type": "code",
   "execution_count": null,
   "metadata": {},
   "outputs": [],
   "source": [
    "for column in data.columns:\n",
    "  evaluateFeaturesByChart(column)"
   ]
  }
 ],
 "metadata": {
  "kernelspec": {
   "display_name": "Python 3",
   "language": "python",
   "name": "python3"
  },
  "language_info": {
   "codemirror_mode": {
    "name": "ipython",
    "version": 3
   },
   "file_extension": ".py",
   "mimetype": "text/x-python",
   "name": "python",
   "nbconvert_exporter": "python",
   "pygments_lexer": "ipython3",
   "version": "3.9.8"
  }
 },
 "nbformat": 4,
 "nbformat_minor": 4
}
