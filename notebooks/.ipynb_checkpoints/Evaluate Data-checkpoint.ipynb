{
 "cells": [
  {
   "cell_type": "code",
   "execution_count": null,
   "metadata": {},
   "outputs": [],
   "source": [
    "import seaborn as sns\n",
    "import numpy as np\n",
    "import pandas as pd\n",
    "from matplotlib import pyplot as plt\n",
    "from sklearn.ensemble import RandomForestClassifier\n",
    "from sklearn.neighbors import KNeighborsClassifier\n",
    "from sklearn.model_selection import train_test_split\n",
    "from sklearn.metrics import accuracy_score, classification_report, confusion_matrix\n",
    "from sklearn.svm import SVC\n",
    "from sklearn.tree import DecisionTreeClassifier"
   ]
  },
  {
   "cell_type": "code",
   "execution_count": null,
   "metadata": {},
   "outputs": [],
   "source": [
    "def evaluateData(X, y):\n",
    "    X_train, X_test, y_train, y_test = train_test_split(X, y, test_size=0.2, random_state=2)\n",
    "    accuracy_test = []\n",
    "    models = [DecisionTreeClassifier, RandomForestClassifier, KNeighborsClassifier, SVC]\n",
    "    for m in models:\n",
    "        print('#############################################')\n",
    "        print('######-Model =>\\033[07m {} \\033[0m'.format(m))\n",
    "        model_ = m()\n",
    "        model_.fit(X_train, y_train)\n",
    "        predict = model_.predict(X_test)\n",
    "        acc = accuracy_score(predict, y_test)\n",
    "        accuracy_test.append(acc)\n",
    "        print('Test Accuracy :\\033[32m \\033[01m {:.2f}% \\033[30m \\033[0m'.format(acc * 100))\n",
    "        print('\\033[01m              Classification_report \\033[0m')\n",
    "        print(classification_report(y_test, predict))\n",
    "        print('\\033[01m             Confusion_matrix \\033[0m')\n",
    "        cf_matrix = confusion_matrix(y_test, predict)\n",
    "        plot_ = sns.heatmap(cf_matrix / np.sum(cf_matrix), annot=True, fmt='0.2%')\n",
    "        plt.show()\n",
    "        print('\\033[31m###################- End -###################\\033[0m')\n",
    "\n",
    "    output = pd.DataFrame({\"Model\": ['Decision Tree Classifier', 'Random Forest Classifier', 'KNeighbors Classifier',\n",
    "                                     'Support Vector Machine'],\n",
    "                           \"Accuracy\": accuracy_test})\n",
    "    print(output)"
   ]
  }
 ],
 "metadata": {
  "kernelspec": {
   "display_name": "Python 3",
   "language": "python",
   "name": "python3"
  },
  "language_info": {
   "codemirror_mode": {
    "name": "ipython",
    "version": 3
   },
   "file_extension": ".py",
   "mimetype": "text/x-python",
   "name": "python",
   "nbconvert_exporter": "python",
   "pygments_lexer": "ipython3",
   "version": "3.9.8"
  }
 },
 "nbformat": 4,
 "nbformat_minor": 4
}
